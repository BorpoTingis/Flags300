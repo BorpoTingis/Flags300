{
 "cells": [
  {
   "cell_type": "markdown",
   "metadata": {},
   "source": [
    "# 10 Minutes to pandas\n",
    "## Please learn pandas from these links.\n",
    "https://pandas.pydata.org/pandas-docs/stable/10min.html\n",
    "\n",
    "http://manishamde.github.io/blog/2013/03/07/pandas-and-python-top-10/#numpy\n",
    "\n",
    "### You should be able to understand these commands:\n",
    "1. Create and read data: Series and Data Frame, read_csv\n",
    "2. View data: head, tail, index, values, describe\n",
    "3. Select data: slicing, loc, iloc\n",
    "4. Missing data: dropna, fillna, isna\n",
    "5. apply and lambda\n",
    "6. concat, append, reshape\n",
    "6. SQL style function: merge, join, group by"
   ]
  },
  {
   "cell_type": "markdown",
   "metadata": {},
   "source": [
    "# Question: please implement the code from these three pages.\n",
    "## Page 1:\n",
    "http://www.gregreda.com/2013/10/26/intro-to-pandas-data-structures/\n",
    "## Page 2:\n",
    "http://www.gregreda.com/2013/10/26/working-with-pandas-dataframes/\n",
    "## Page 3:\n",
    "http://www.gregreda.com/2013/10/26/using-pandas-on-the-movielens-dataset/\n",
    "\n",
    "# Make sure you understand all these commands and try to use them in your project."
   ]
  },
  {
   "cell_type": "code",
   "execution_count": null,
   "metadata": {
    "collapsed": true
   },
   "outputs": [],
   "source": [
    "import pandas as pd\n",
    "import numpy as np\n",
    "import matplotlib.pyplot as plt\n",
    "pd.set_option('max_columns', 50)\n",
    "%matplotlib inline"
   ]
  }
 ],
 "metadata": {
  "anaconda-cloud": {},
  "kernelspec": {
   "display_name": "Python [Root]",
   "language": "python",
   "name": "Python [Root]"
  },
  "language_info": {
   "codemirror_mode": {
    "name": "ipython",
    "version": 2
   },
   "file_extension": ".py",
   "mimetype": "text/x-python",
   "name": "python",
   "nbconvert_exporter": "python",
   "pygments_lexer": "ipython2",
   "version": "2.7.12"
  }
 },
 "nbformat": 4,
 "nbformat_minor": 2
}
