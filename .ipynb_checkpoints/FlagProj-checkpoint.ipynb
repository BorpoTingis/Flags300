{
 "cells": [
  {
   "cell_type": "markdown",
   "metadata": {},
   "source": [
    "## Project name: Flag Database Fun Time\n",
    "\n",
    "### Team Leader: Cole Polychronis\n",
    "\n",
    "### Team Members: Merritt Ruthrauff, Kelsey Henrichsen, Jasmine Boonyakiti\n",
    "\n",
    "#### Data Description:\n",
    "\n",
    "Our datasets has 194 records. Each record is described by these values:\n",
    "\n",
    "**Response Variable：**\n",
    "* Religion of a Country      \n",
    "\n",
    "**Predictor Variables:**\n",
    "1. Name of country   \n",
    "2. Continent of country                  \n",
    "3. Quadrant of the world (relative to Greenwich and the Equator)   \n",
    "4. Area (in millions of square kilometers)                           \n",
    "5. Population (in millions) \n",
    "6. Language spoken  \n",
    "7. Number of vertical bars on flag              \n",
    "8. Number of horizontal stripes on flag         \n",
    "9. Number of colors on flag    \n",
    "10. Presence of red on flag\n",
    "11. Presence of green on flag\n",
    "12. Presence of blue on flag\n",
    "13. Presence of gold on flag\n",
    "14. Presence of white on flag\n",
    "15. Presence of black on flag\n",
    "16. Presence of orange on flag\n",
    "17. Main color on flag\n",
    "18. Number of circles on flag\n",
    "19. Number of crosses on flag\n",
    "20. Number of saltires (diagonal crosses) on flag\n",
    "21. Number of quartered sections\n",
    "22. Number of suns or stars on flag\n",
    "23. Presence of crescent on flag\n",
    "24. Presence of triangles on flag\n",
    "25. Presence of inanimate icon on flag\n",
    "26. Presence of animate icon on flag\n",
    "27. Presence of text on flag\n",
    "28. Color in top left of flag\n",
    "29. Color in bottom right of flag"
   ]
  },
  {
   "cell_type": "markdown",
   "metadata": {},
   "source": [
    "# Step 1.1: Load Data\n",
    "\n",
    "#### Because our data could not be downloaded from the UCI site, we created a very basic webcrawler to pull the dataset off of the UCI page. Since this gave us a list where some attributes were connected by \\n, we built a function to seperate these connected values. We then grouped these attributes together into the correct number of rows and converted them into a dataframe."
   ]
  },
  {
   "cell_type": "code",
   "execution_count": null,
   "metadata": {
    "collapsed": true
   },
   "outputs": [],
   "source": [
    "# basic webcrawler to peel data off of UCI webpage\n",
    "from lxml import html\n",
    "import requests\n",
    "page = requests.get('https://archive.ics.uci.edu/ml/machine-learning-databases/flags/flag.data')\n",
    "tree = html.fromstring(page.text)\n",
    "info = tree.xpath('//text()')\n",
    "info = info[0].split(',')\n",
    "\n",
    "# method to untangle values connected by \\n (EX: 'green\\nAlbania')\n",
    "def untangle(arr):\n",
    "    untangled = []\n",
    "    for el in arr:\n",
    "        try: \n",
    "            ind = el.index('\\n')\n",
    "        except ValueError:\n",
    "            ind = -1\n",
    "        if ind == -1:\n",
    "            untangled.append(el)\n",
    "        else:\n",
    "            untangled.append(el[:ind])\n",
    "            untangled.append(el[ind+1:])\n",
    "    return untangled\n",
    "\n",
    "# group data into rows and convert to a Dataframe\n",
    "untangled = untangle(info)\n",
    "usable = [untangled[i:i + 30] for i in range(0, len(untangled), 30)]\n",
    "import pandas as pd\n",
    "df = pd.DataFrame(usable)\n",
    "\n",
    "# remove last buffer row, which contains all None\n",
    "df = df[:-1]\n",
    "# convert all columns that should be numeric to ints (as they are currently all strings)\n",
    "indices = []\n",
    "for i in range(29):\n",
    "    if i != 0 and i != 17 and i != 28 and i != 29:\n",
    "        indices.append(i)\n",
    "df[indices] = df[indices].apply(pd.to_numeric)"
   ]
  },
  {
   "cell_type": "markdown",
   "metadata": {},
   "source": [
    "# Step 1.2: Preprocessing\n",
    "#### Mention creation of dummies to work with DecisionTreeClassifier and addition of column names so that the graphviz output of our tree makes more sense."
   ]
  },
  {
   "cell_type": "code",
   "execution_count": null,
   "metadata": {
    "collapsed": true
   },
   "outputs": [],
   "source": [
    "# convert categorical variables to \"dummy\" variables so that they can be used by the DecisionTreeClassifier\n",
    "df = pd.get_dummies(df, prefix=['continent', 'quadrant', 'language','mainColor','topLeftColor','bottomRightColor'], columns=[1, 2, 5, 17, 28, 29])"
   ]
  },
  {
   "cell_type": "code",
   "execution_count": null,
   "metadata": {},
   "outputs": [],
   "source": [
    "# select data and target sets\n",
    "data = df.drop(df.columns[[0,6]], axis=1)\n",
    "target = df[6]\n",
    "\n",
    "# df.columns=['country','continent','quadrant','area (thousands of square km)','population (millions)','language','religion','bars','stripes','numOfColors','red','green','blue','gold','white','black','orange','mainColor','numOfCircles','numOfCrosses','numOfSaltires','numOfQuarters','numOfSunStars','crescent','triangle','icon','animate','text','topLeftColor','botRightColor']\n",
    "\n",
    "df.columns=['country','area (thousands of square of km)', 'population (millions)','religion','bars','stripes','numOfColors','red','green','blue','gold','white','black','orange','numOfCircles','numOfCrosses','numOfSaltires','numOfQuarters','numOfSunStars','crescent','triangle','icon','animate','text','inN.America','inS.America','inEurope','inAfrica','inAsia','inOceania','inNE','inSE','inSW','inNW','english','spanish','french','german','slavic','otherIndoEuropean','chinese','arabic','Japanese/Turkish/Finnish/Magyar','other',\n",
    "            'mainColor_black','mainColor_blue','mainColor_brown','mainColor_gold','mainColor_green','mainColor_orange','mainColor_red','mainColor_white','topLeftColor_black','topLeftColor_blue','topLeftColor_gold','topLeftColor_green','topLeftColor_orange','topLeftColor_red','topLeftColor_white','bottomRightColor_black',\n",
    "            'bottomRightColor_blue','bottomRightColor_brown',\n",
    "            'bottomRightColor_gold','bottomRightColor_green',\n",
    "            'bottomRightColor_orange','bottomRightColor_red',\n",
    "            'bottomRightColor_white']\n",
    "df.head()\n"
   ]
  },
  {
   "cell_type": "markdown",
   "metadata": {},
   "source": [
    "# Step 1.3: Modeling using Decision Tree\n",
    "#### Mention that from the output given, population size looks like the most important feature for determining religion of a country."
   ]
  },
  {
   "cell_type": "code",
   "execution_count": null,
   "metadata": {},
   "outputs": [],
   "source": [
    "# create Decision Tree Classifier and determine which features are most important\n",
    "from sklearn import tree\n",
    "import numpy as np\n",
    "clf = tree.DecisionTreeClassifier()\n",
    "clf.fit(data,target)\n",
    "\n",
    "y_pred = clf.predict(data)\n",
    "classif_rate = np.mean(y_pred.ravel() == target.ravel()) * 100\n",
    "print(\"classif_rate for %s : %f \" % ('RandomForestClassifier', classif_rate))\n",
    "print clf.feature_importances_"
   ]
  },
  {
   "cell_type": "markdown",
   "metadata": {},
   "source": [
    "# Step 1.4: Visualization\n",
    "#### Mention that for categorical variables like inS.America, the value being <=0.5 means the value was 0, which means not true, where a value >0 means the value was 1, which means true."
   ]
  },
  {
   "cell_type": "code",
   "execution_count": null,
   "metadata": {},
   "outputs": [],
   "source": [
    "# visualize the decision tree\n",
    "import graphviz\n",
    "dot_data = tree.export_graphviz(clf, out_file=None,\n",
    "#                                max_depth=5,\n",
    "                               filled=True, rounded=True,\n",
    "                               feature_names=df.columns,\n",
    "                               class_names=['Catholic','Other Christian', 'Muslim', 'Buddhist', 'Hindu', 'Ethnic', 'Marxist', 'Other']) \n",
    "graph = graphviz.Source(dot_data)  \n",
    "graph"
   ]
  },
  {
   "cell_type": "code",
   "execution_count": null,
   "metadata": {
    "collapsed": true
   },
   "outputs": [],
   "source": []
  }
 ],
 "metadata": {
  "kernelspec": {
   "display_name": "Python 2",
   "language": "python",
   "name": "python2"
  },
  "language_info": {
   "codemirror_mode": {
    "name": "ipython",
    "version": 2
   },
   "file_extension": ".py",
   "mimetype": "text/x-python",
   "name": "python",
   "nbconvert_exporter": "python",
   "pygments_lexer": "ipython2",
   "version": "2.7.13"
  }
 },
 "nbformat": 4,
 "nbformat_minor": 2
}
